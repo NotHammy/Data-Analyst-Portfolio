{
 "cells": [
  {
   "cell_type": "code",
   "execution_count": 72,
   "metadata": {},
   "outputs": [],
   "source": [
    "import pandas as pd\n",
    "import os"
   ]
  },
  {
   "cell_type": "code",
   "execution_count": 73,
   "metadata": {},
   "outputs": [
    {
     "data": {
      "text/html": [
       "<div>\n",
       "<style scoped>\n",
       "    .dataframe tbody tr th:only-of-type {\n",
       "        vertical-align: middle;\n",
       "    }\n",
       "\n",
       "    .dataframe tbody tr th {\n",
       "        vertical-align: top;\n",
       "    }\n",
       "\n",
       "    .dataframe thead th {\n",
       "        text-align: right;\n",
       "    }\n",
       "</style>\n",
       "<table border=\"1\" class=\"dataframe\">\n",
       "  <thead>\n",
       "    <tr style=\"text-align: right;\">\n",
       "      <th></th>\n",
       "      <th>id</th>\n",
       "      <th>Gender</th>\n",
       "      <th>Age</th>\n",
       "      <th>City</th>\n",
       "      <th>Profession</th>\n",
       "      <th>Academic Pressure</th>\n",
       "      <th>Work Pressure</th>\n",
       "      <th>CGPA</th>\n",
       "      <th>Study Satisfaction</th>\n",
       "      <th>Job Satisfaction</th>\n",
       "      <th>Sleep Duration</th>\n",
       "      <th>Dietary Habits</th>\n",
       "      <th>Degree</th>\n",
       "      <th>Have you ever had suicidal thoughts ?</th>\n",
       "      <th>Work/Study Hours</th>\n",
       "      <th>Financial Stress</th>\n",
       "      <th>Family History of Mental Illness</th>\n",
       "      <th>Depression</th>\n",
       "    </tr>\n",
       "  </thead>\n",
       "  <tbody>\n",
       "    <tr>\n",
       "      <th>0</th>\n",
       "      <td>2</td>\n",
       "      <td>Male</td>\n",
       "      <td>33.0</td>\n",
       "      <td>Visakhapatnam</td>\n",
       "      <td>Student</td>\n",
       "      <td>5.0</td>\n",
       "      <td>0.0</td>\n",
       "      <td>8.97</td>\n",
       "      <td>2.0</td>\n",
       "      <td>0.0</td>\n",
       "      <td>5-6 hours</td>\n",
       "      <td>Healthy</td>\n",
       "      <td>B.Pharm</td>\n",
       "      <td>Yes</td>\n",
       "      <td>3.0</td>\n",
       "      <td>1.0</td>\n",
       "      <td>No</td>\n",
       "      <td>1</td>\n",
       "    </tr>\n",
       "    <tr>\n",
       "      <th>1</th>\n",
       "      <td>8</td>\n",
       "      <td>Female</td>\n",
       "      <td>24.0</td>\n",
       "      <td>Bangalore</td>\n",
       "      <td>Student</td>\n",
       "      <td>2.0</td>\n",
       "      <td>0.0</td>\n",
       "      <td>5.90</td>\n",
       "      <td>5.0</td>\n",
       "      <td>0.0</td>\n",
       "      <td>5-6 hours</td>\n",
       "      <td>Moderate</td>\n",
       "      <td>BSc</td>\n",
       "      <td>No</td>\n",
       "      <td>3.0</td>\n",
       "      <td>2.0</td>\n",
       "      <td>Yes</td>\n",
       "      <td>0</td>\n",
       "    </tr>\n",
       "    <tr>\n",
       "      <th>2</th>\n",
       "      <td>26</td>\n",
       "      <td>Male</td>\n",
       "      <td>31.0</td>\n",
       "      <td>Srinagar</td>\n",
       "      <td>Student</td>\n",
       "      <td>3.0</td>\n",
       "      <td>0.0</td>\n",
       "      <td>7.03</td>\n",
       "      <td>5.0</td>\n",
       "      <td>0.0</td>\n",
       "      <td>Less than 5 hours</td>\n",
       "      <td>Healthy</td>\n",
       "      <td>BA</td>\n",
       "      <td>No</td>\n",
       "      <td>9.0</td>\n",
       "      <td>1.0</td>\n",
       "      <td>Yes</td>\n",
       "      <td>0</td>\n",
       "    </tr>\n",
       "    <tr>\n",
       "      <th>3</th>\n",
       "      <td>30</td>\n",
       "      <td>Female</td>\n",
       "      <td>28.0</td>\n",
       "      <td>Varanasi</td>\n",
       "      <td>Student</td>\n",
       "      <td>3.0</td>\n",
       "      <td>0.0</td>\n",
       "      <td>5.59</td>\n",
       "      <td>2.0</td>\n",
       "      <td>0.0</td>\n",
       "      <td>7-8 hours</td>\n",
       "      <td>Moderate</td>\n",
       "      <td>BCA</td>\n",
       "      <td>Yes</td>\n",
       "      <td>4.0</td>\n",
       "      <td>5.0</td>\n",
       "      <td>Yes</td>\n",
       "      <td>1</td>\n",
       "    </tr>\n",
       "    <tr>\n",
       "      <th>4</th>\n",
       "      <td>32</td>\n",
       "      <td>Female</td>\n",
       "      <td>25.0</td>\n",
       "      <td>Jaipur</td>\n",
       "      <td>Student</td>\n",
       "      <td>4.0</td>\n",
       "      <td>0.0</td>\n",
       "      <td>8.13</td>\n",
       "      <td>3.0</td>\n",
       "      <td>0.0</td>\n",
       "      <td>5-6 hours</td>\n",
       "      <td>Moderate</td>\n",
       "      <td>M.Tech</td>\n",
       "      <td>Yes</td>\n",
       "      <td>1.0</td>\n",
       "      <td>1.0</td>\n",
       "      <td>No</td>\n",
       "      <td>0</td>\n",
       "    </tr>\n",
       "  </tbody>\n",
       "</table>\n",
       "</div>"
      ],
      "text/plain": [
       "   id  Gender   Age           City Profession  Academic Pressure   \n",
       "0   2    Male  33.0  Visakhapatnam    Student                5.0  \\\n",
       "1   8  Female  24.0      Bangalore    Student                2.0   \n",
       "2  26    Male  31.0       Srinagar    Student                3.0   \n",
       "3  30  Female  28.0       Varanasi    Student                3.0   \n",
       "4  32  Female  25.0         Jaipur    Student                4.0   \n",
       "\n",
       "   Work Pressure  CGPA  Study Satisfaction  Job Satisfaction   \n",
       "0            0.0  8.97                 2.0               0.0  \\\n",
       "1            0.0  5.90                 5.0               0.0   \n",
       "2            0.0  7.03                 5.0               0.0   \n",
       "3            0.0  5.59                 2.0               0.0   \n",
       "4            0.0  8.13                 3.0               0.0   \n",
       "\n",
       "      Sleep Duration Dietary Habits   Degree   \n",
       "0          5-6 hours        Healthy  B.Pharm  \\\n",
       "1          5-6 hours       Moderate      BSc   \n",
       "2  Less than 5 hours        Healthy       BA   \n",
       "3          7-8 hours       Moderate      BCA   \n",
       "4          5-6 hours       Moderate   M.Tech   \n",
       "\n",
       "  Have you ever had suicidal thoughts ?  Work/Study Hours  Financial Stress   \n",
       "0                                   Yes               3.0               1.0  \\\n",
       "1                                    No               3.0               2.0   \n",
       "2                                    No               9.0               1.0   \n",
       "3                                   Yes               4.0               5.0   \n",
       "4                                   Yes               1.0               1.0   \n",
       "\n",
       "  Family History of Mental Illness  Depression  \n",
       "0                               No           1  \n",
       "1                              Yes           0  \n",
       "2                              Yes           0  \n",
       "3                              Yes           1  \n",
       "4                               No           0  "
      ]
     },
     "execution_count": 73,
     "metadata": {},
     "output_type": "execute_result"
    }
   ],
   "source": [
    "file_path = 'Student Depression Data Cleaning & Modelling/depression_data.csv'\n",
    "\n",
    "df = pd.read_csv(file_path)\n",
    "\n",
    "df.head()"
   ]
  },
  {
   "cell_type": "code",
   "execution_count": 74,
   "metadata": {},
   "outputs": [
    {
     "data": {
      "text/plain": [
       "id                                         int64\n",
       "Gender                                    object\n",
       "Age                                      float64\n",
       "City                                      object\n",
       "Profession                                object\n",
       "Academic Pressure                        float64\n",
       "Work Pressure                            float64\n",
       "CGPA                                     float64\n",
       "Study Satisfaction                       float64\n",
       "Job Satisfaction                         float64\n",
       "Sleep Duration                            object\n",
       "Dietary Habits                            object\n",
       "Degree                                    object\n",
       "Have you ever had suicidal thoughts ?     object\n",
       "Work/Study Hours                         float64\n",
       "Financial Stress                         float64\n",
       "Family History of Mental Illness          object\n",
       "Depression                                 int64\n",
       "dtype: object"
      ]
     },
     "execution_count": 74,
     "metadata": {},
     "output_type": "execute_result"
    }
   ],
   "source": [
    "# List of the columns and their types\n",
    "df.dtypes"
   ]
  },
  {
   "cell_type": "markdown",
   "metadata": {},
   "source": [
    "From the result above, it is clear that we have several categorical variables\n",
    "- Encode this categorical variables or conver to numerical format\n",
    "- Assess each categorical variable 1 by 1 for data cleaning"
   ]
  },
  {
   "cell_type": "code",
   "execution_count": 75,
   "metadata": {},
   "outputs": [
    {
     "data": {
      "text/plain": [
       "Gender\n",
       "Male      15547\n",
       "Female    12354\n",
       "Name: count, dtype: int64"
      ]
     },
     "execution_count": 75,
     "metadata": {},
     "output_type": "execute_result"
    }
   ],
   "source": [
    "df['Gender'].value_counts()"
   ]
  },
  {
   "cell_type": "code",
   "execution_count": 76,
   "metadata": {},
   "outputs": [
    {
     "data": {
      "text/plain": [
       "Gender\n",
       "0    15547\n",
       "1    12354\n",
       "Name: count, dtype: int64"
      ]
     },
     "execution_count": 76,
     "metadata": {},
     "output_type": "execute_result"
    }
   ],
   "source": [
    "# Standardise Gender text\n",
    "df['Gender'] = df['Gender'].str.strip()\n",
    "\n",
    "# Convert Gender to numerical binary variable\n",
    "df['Gender'] = df['Gender'].map({'Male':0, 'Female':1})\n",
    "\n",
    "df['Gender'].value_counts()"
   ]
  },
  {
   "cell_type": "code",
   "execution_count": 77,
   "metadata": {},
   "outputs": [
    {
     "data": {
      "text/plain": [
       "Age\n",
       "24.0    2258\n",
       "20.0    2237\n",
       "28.0    2133\n",
       "29.0    1950\n",
       "33.0    1893\n",
       "25.0    1784\n",
       "21.0    1726\n",
       "23.0    1645\n",
       "18.0    1587\n",
       "19.0    1560\n",
       "34.0    1468\n",
       "27.0    1462\n",
       "31.0    1427\n",
       "32.0    1262\n",
       "22.0    1160\n",
       "26.0    1155\n",
       "30.0    1145\n",
       "35.0      10\n",
       "38.0       8\n",
       "36.0       7\n",
       "42.0       4\n",
       "48.0       3\n",
       "39.0       3\n",
       "43.0       2\n",
       "46.0       2\n",
       "37.0       2\n",
       "49.0       1\n",
       "51.0       1\n",
       "44.0       1\n",
       "59.0       1\n",
       "54.0       1\n",
       "58.0       1\n",
       "56.0       1\n",
       "41.0       1\n",
       "Name: count, dtype: int64"
      ]
     },
     "execution_count": 77,
     "metadata": {},
     "output_type": "execute_result"
    }
   ],
   "source": [
    "df['Age'].value_counts()"
   ]
  },
  {
   "cell_type": "code",
   "execution_count": 78,
   "metadata": {},
   "outputs": [
    {
     "data": {
      "text/plain": [
       "Age\n",
       "24.0    2258\n",
       "20.0    2237\n",
       "28.0    2133\n",
       "29.0    1950\n",
       "25.0    1784\n",
       "21.0    1726\n",
       "23.0    1645\n",
       "18.0    1587\n",
       "19.0    1560\n",
       "27.0    1462\n",
       "22.0    1160\n",
       "26.0    1155\n",
       "30.0    1145\n",
       "Name: count, dtype: int64"
      ]
     },
     "execution_count": 78,
     "metadata": {},
     "output_type": "execute_result"
    }
   ],
   "source": [
    "# Not enough data for students with age > 35 inclusive\n",
    "# drop rows with age > 30\n",
    "\n",
    "df = df.loc[df['Age'] <= 30]\n",
    "df['Age'].value_counts()\n"
   ]
  },
  {
   "cell_type": "code",
   "execution_count": 79,
   "metadata": {},
   "outputs": [
    {
     "data": {
      "text/plain": [
       "City\n",
       "Kalyan           1268\n",
       "Hyderabad        1045\n",
       "Srinagar         1018\n",
       "Vasai-Virar       994\n",
       "Lucknow           915\n",
       "Thane             913\n",
       "Surat             896\n",
       "Agra              876\n",
       "Ludhiana          852\n",
       "Kolkata           828\n",
       "Jaipur            826\n",
       "Ahmedabad         777\n",
       "Bhopal            749\n",
       "Pune              741\n",
       "Patna             714\n",
       "Chennai           712\n",
       "Visakhapatnam     709\n",
       "Rajkot            669\n",
       "Meerut            629\n",
       "Bangalore         617\n",
       "Delhi             595\n",
       "Ghaziabad         579\n",
       "Mumbai            575\n",
       "Vadodara          538\n",
       "Varanasi          521\n",
       "Indore            513\n",
       "Nagpur            509\n",
       "Kanpur            445\n",
       "Nashik            406\n",
       "Faridabad         351\n",
       "Saanvi              2\n",
       "Bhavna              2\n",
       "City                2\n",
       "Reyansh             1\n",
       "Nandini             1\n",
       "Nalini              1\n",
       "M.Com               1\n",
       "ME                  1\n",
       "Rashi               1\n",
       "Kibara              1\n",
       "Vaanya              1\n",
       "Harsh               1\n",
       "Gaurav              1\n",
       "Harsha              1\n",
       "Mira                1\n",
       "3.0                 1\n",
       "Less Delhi          1\n",
       "M.Tech              1\n",
       "Khaziabad           1\n",
       "Name: count, dtype: int64"
      ]
     },
     "execution_count": 79,
     "metadata": {},
     "output_type": "execute_result"
    }
   ],
   "source": [
    "df['City'].value_counts()"
   ]
  },
  {
   "cell_type": "code",
   "execution_count": 85,
   "metadata": {},
   "outputs": [],
   "source": [
    "# Remove cities with population less than 300\n",
    "city_counts = df['City'].value_counts() \n"
   ]
  },
  {
   "cell_type": "code",
   "execution_count": null,
   "metadata": {},
   "outputs": [
    {
     "name": "stdout",
     "output_type": "stream",
     "text": [
      "City\n",
      "Kalyan           1268\n",
      "Hyderabad        1045\n",
      "Srinagar         1018\n",
      "Vasai-Virar       994\n",
      "Lucknow           915\n",
      "Thane             913\n",
      "Surat             896\n",
      "Agra              876\n",
      "Ludhiana          852\n",
      "Kolkata           828\n",
      "Jaipur            826\n",
      "Ahmedabad         777\n",
      "Bhopal            749\n",
      "Pune              741\n",
      "Patna             714\n",
      "Chennai           712\n",
      "Visakhapatnam     709\n",
      "Rajkot            669\n",
      "Meerut            629\n",
      "Bangalore         617\n",
      "Delhi             595\n",
      "Ghaziabad         579\n",
      "Mumbai            575\n",
      "Vadodara          538\n",
      "Varanasi          521\n",
      "Indore            513\n",
      "Nagpur            509\n",
      "Kanpur            445\n",
      "Nashik            406\n",
      "Faridabad         351\n",
      "Saanvi              2\n",
      "Bhavna              2\n",
      "City                2\n",
      "Reyansh             1\n",
      "Nandini             1\n",
      "Nalini              1\n",
      "M.Com               1\n",
      "ME                  1\n",
      "Rashi               1\n",
      "Kibara              1\n",
      "Vaanya              1\n",
      "Harsh               1\n",
      "Gaurav              1\n",
      "Harsha              1\n",
      "Mira                1\n",
      "3.0                 1\n",
      "Less Delhi          1\n",
      "M.Tech              1\n",
      "Khaziabad           1\n",
      "Name: count, dtype: int64\n"
     ]
    }
   ],
   "source": []
  },
  {
   "cell_type": "code",
   "execution_count": null,
   "metadata": {},
   "outputs": [],
   "source": []
  }
 ],
 "metadata": {
  "kernelspec": {
   "display_name": "Python 3",
   "language": "python",
   "name": "python3"
  },
  "language_info": {
   "codemirror_mode": {
    "name": "ipython",
    "version": 3
   },
   "file_extension": ".py",
   "mimetype": "text/x-python",
   "name": "python",
   "nbconvert_exporter": "python",
   "pygments_lexer": "ipython3",
   "version": "3.10.11"
  }
 },
 "nbformat": 4,
 "nbformat_minor": 2
}
